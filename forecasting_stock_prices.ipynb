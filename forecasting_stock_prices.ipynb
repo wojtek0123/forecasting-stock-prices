{
  "cells": [
    {
      "cell_type": "code",
      "execution_count": null,
      "metadata": {
        "id": "mM21aKxyIBrN"
      },
      "outputs": [],
      "source": [
        "import numpy as np\n",
        "import pandas as pd\n",
        "import tensorflow as tf\n",
        "from google.colab import files\n",
        "import datetime\n",
        "import matplotlib.pyplot as plt\n",
        "import tensorflow as tf"
      ]
    },
    {
      "cell_type": "code",
      "execution_count": null,
      "metadata": {
        "colab": {
          "base_uri": "https://localhost:8080/",
          "height": 74
        },
        "id": "D9VVlKWXLn_f",
        "outputId": "9fe4609d-5503-4f6f-8be1-312fe97b8e7f"
      },
      "outputs": [
        {
          "data": {
            "text/html": [
              "\n",
              "     <input type=\"file\" id=\"files-98ce4068-0ad6-4be9-8d7a-cf1b470ada37\" name=\"files[]\" multiple disabled\n",
              "        style=\"border:none\" />\n",
              "     <output id=\"result-98ce4068-0ad6-4be9-8d7a-cf1b470ada37\">\n",
              "      Upload widget is only available when the cell has been executed in the\n",
              "      current browser session. Please rerun this cell to enable.\n",
              "      </output>\n",
              "      <script>// Copyright 2017 Google LLC\n",
              "//\n",
              "// Licensed under the Apache License, Version 2.0 (the \"License\");\n",
              "// you may not use this file except in compliance with the License.\n",
              "// You may obtain a copy of the License at\n",
              "//\n",
              "//      http://www.apache.org/licenses/LICENSE-2.0\n",
              "//\n",
              "// Unless required by applicable law or agreed to in writing, software\n",
              "// distributed under the License is distributed on an \"AS IS\" BASIS,\n",
              "// WITHOUT WARRANTIES OR CONDITIONS OF ANY KIND, either express or implied.\n",
              "// See the License for the specific language governing permissions and\n",
              "// limitations under the License.\n",
              "\n",
              "/**\n",
              " * @fileoverview Helpers for google.colab Python module.\n",
              " */\n",
              "(function(scope) {\n",
              "function span(text, styleAttributes = {}) {\n",
              "  const element = document.createElement('span');\n",
              "  element.textContent = text;\n",
              "  for (const key of Object.keys(styleAttributes)) {\n",
              "    element.style[key] = styleAttributes[key];\n",
              "  }\n",
              "  return element;\n",
              "}\n",
              "\n",
              "// Max number of bytes which will be uploaded at a time.\n",
              "const MAX_PAYLOAD_SIZE = 100 * 1024;\n",
              "\n",
              "function _uploadFiles(inputId, outputId) {\n",
              "  const steps = uploadFilesStep(inputId, outputId);\n",
              "  const outputElement = document.getElementById(outputId);\n",
              "  // Cache steps on the outputElement to make it available for the next call\n",
              "  // to uploadFilesContinue from Python.\n",
              "  outputElement.steps = steps;\n",
              "\n",
              "  return _uploadFilesContinue(outputId);\n",
              "}\n",
              "\n",
              "// This is roughly an async generator (not supported in the browser yet),\n",
              "// where there are multiple asynchronous steps and the Python side is going\n",
              "// to poll for completion of each step.\n",
              "// This uses a Promise to block the python side on completion of each step,\n",
              "// then passes the result of the previous step as the input to the next step.\n",
              "function _uploadFilesContinue(outputId) {\n",
              "  const outputElement = document.getElementById(outputId);\n",
              "  const steps = outputElement.steps;\n",
              "\n",
              "  const next = steps.next(outputElement.lastPromiseValue);\n",
              "  return Promise.resolve(next.value.promise).then((value) => {\n",
              "    // Cache the last promise value to make it available to the next\n",
              "    // step of the generator.\n",
              "    outputElement.lastPromiseValue = value;\n",
              "    return next.value.response;\n",
              "  });\n",
              "}\n",
              "\n",
              "/**\n",
              " * Generator function which is called between each async step of the upload\n",
              " * process.\n",
              " * @param {string} inputId Element ID of the input file picker element.\n",
              " * @param {string} outputId Element ID of the output display.\n",
              " * @return {!Iterable<!Object>} Iterable of next steps.\n",
              " */\n",
              "function* uploadFilesStep(inputId, outputId) {\n",
              "  const inputElement = document.getElementById(inputId);\n",
              "  inputElement.disabled = false;\n",
              "\n",
              "  const outputElement = document.getElementById(outputId);\n",
              "  outputElement.innerHTML = '';\n",
              "\n",
              "  const pickedPromise = new Promise((resolve) => {\n",
              "    inputElement.addEventListener('change', (e) => {\n",
              "      resolve(e.target.files);\n",
              "    });\n",
              "  });\n",
              "\n",
              "  const cancel = document.createElement('button');\n",
              "  inputElement.parentElement.appendChild(cancel);\n",
              "  cancel.textContent = 'Cancel upload';\n",
              "  const cancelPromise = new Promise((resolve) => {\n",
              "    cancel.onclick = () => {\n",
              "      resolve(null);\n",
              "    };\n",
              "  });\n",
              "\n",
              "  // Wait for the user to pick the files.\n",
              "  const files = yield {\n",
              "    promise: Promise.race([pickedPromise, cancelPromise]),\n",
              "    response: {\n",
              "      action: 'starting',\n",
              "    }\n",
              "  };\n",
              "\n",
              "  cancel.remove();\n",
              "\n",
              "  // Disable the input element since further picks are not allowed.\n",
              "  inputElement.disabled = true;\n",
              "\n",
              "  if (!files) {\n",
              "    return {\n",
              "      response: {\n",
              "        action: 'complete',\n",
              "      }\n",
              "    };\n",
              "  }\n",
              "\n",
              "  for (const file of files) {\n",
              "    const li = document.createElement('li');\n",
              "    li.append(span(file.name, {fontWeight: 'bold'}));\n",
              "    li.append(span(\n",
              "        `(${file.type || 'n/a'}) - ${file.size} bytes, ` +\n",
              "        `last modified: ${\n",
              "            file.lastModifiedDate ? file.lastModifiedDate.toLocaleDateString() :\n",
              "                                    'n/a'} - `));\n",
              "    const percent = span('0% done');\n",
              "    li.appendChild(percent);\n",
              "\n",
              "    outputElement.appendChild(li);\n",
              "\n",
              "    const fileDataPromise = new Promise((resolve) => {\n",
              "      const reader = new FileReader();\n",
              "      reader.onload = (e) => {\n",
              "        resolve(e.target.result);\n",
              "      };\n",
              "      reader.readAsArrayBuffer(file);\n",
              "    });\n",
              "    // Wait for the data to be ready.\n",
              "    let fileData = yield {\n",
              "      promise: fileDataPromise,\n",
              "      response: {\n",
              "        action: 'continue',\n",
              "      }\n",
              "    };\n",
              "\n",
              "    // Use a chunked sending to avoid message size limits. See b/62115660.\n",
              "    let position = 0;\n",
              "    do {\n",
              "      const length = Math.min(fileData.byteLength - position, MAX_PAYLOAD_SIZE);\n",
              "      const chunk = new Uint8Array(fileData, position, length);\n",
              "      position += length;\n",
              "\n",
              "      const base64 = btoa(String.fromCharCode.apply(null, chunk));\n",
              "      yield {\n",
              "        response: {\n",
              "          action: 'append',\n",
              "          file: file.name,\n",
              "          data: base64,\n",
              "        },\n",
              "      };\n",
              "\n",
              "      let percentDone = fileData.byteLength === 0 ?\n",
              "          100 :\n",
              "          Math.round((position / fileData.byteLength) * 100);\n",
              "      percent.textContent = `${percentDone}% done`;\n",
              "\n",
              "    } while (position < fileData.byteLength);\n",
              "  }\n",
              "\n",
              "  // All done.\n",
              "  yield {\n",
              "    response: {\n",
              "      action: 'complete',\n",
              "    }\n",
              "  };\n",
              "}\n",
              "\n",
              "scope.google = scope.google || {};\n",
              "scope.google.colab = scope.google.colab || {};\n",
              "scope.google.colab._files = {\n",
              "  _uploadFiles,\n",
              "  _uploadFilesContinue,\n",
              "};\n",
              "})(self);\n",
              "</script> "
            ],
            "text/plain": [
              "<IPython.core.display.HTML object>"
            ]
          },
          "metadata": {},
          "output_type": "display_data"
        },
        {
          "name": "stdout",
          "output_type": "stream",
          "text": [
            "Saving PKO.WA (2004-2023).csv to PKO.WA (2004-2023) (4).csv\n"
          ]
        }
      ],
      "source": [
        "dataset = files.upload()\n",
        "filename = list(dataset.keys())[0]"
      ]
    },
    {
      "cell_type": "code",
      "execution_count": null,
      "metadata": {
        "id": "KEqa1E3DPGVc"
      },
      "outputs": [],
      "source": [
        "df = pd.read_csv(filename)"
      ]
    },
    {
      "cell_type": "code",
      "execution_count": null,
      "metadata": {
        "id": "zmhYOZ6iNLja"
      },
      "outputs": [],
      "source": [
        "df = df.dropna(how='any',axis=0)"
      ]
    },
    {
      "cell_type": "code",
      "execution_count": null,
      "metadata": {
        "id": "khkBJA2-PhR3"
      },
      "outputs": [],
      "source": [
        "df = df[['Date', 'Close']]"
      ]
    },
    {
      "cell_type": "code",
      "execution_count": null,
      "metadata": {
        "id": "5ua46H7uPncw"
      },
      "outputs": [],
      "source": [
        "def str_to_datetime(s):\n",
        "  split = s.split('-')\n",
        "  year, month, day = int(split[0]), int(split[1]), int(split[2])\n",
        "  return datetime.datetime(year=year, month=month, day=day)\n"
      ]
    },
    {
      "cell_type": "code",
      "execution_count": null,
      "metadata": {
        "id": "u18KQPPGRgAd"
      },
      "outputs": [],
      "source": [
        "df['Date'] = df['Date'].apply(str_to_datetime)"
      ]
    },
    {
      "cell_type": "code",
      "execution_count": null,
      "metadata": {
        "id": "tYTDzZxErA8T"
      },
      "outputs": [],
      "source": [
        "df.index = df.pop('Date')"
      ]
    },
    {
      "cell_type": "code",
      "execution_count": null,
      "metadata": {
        "id": "t5Sjhb2fRrce"
      },
      "outputs": [],
      "source": [
        "plt.figure(figsize=(16,10))\n",
        "plt.plot(df.index, df['Close'])\n",
        "plt.title('Dane')\n",
        "plt.xlabel('Daty')\n",
        "plt.ylabel('Cena zamknięcia [PLN]')\n",
        "plt.legend()"
      ]
    },
    {
      "cell_type": "code",
      "execution_count": null,
      "metadata": {
        "id": "KMmXXoDfR0Q9"
      },
      "outputs": [],
      "source": [
        "def df_to_windowed_df(dateframe, first_date_str, last_date_str, n):\n",
        "  first_date = str_to_datetime(first_date_str)\n",
        "  last_date = str_to_datetime(last_date_str)\n",
        "\n",
        "  target_date = first_date\n",
        "\n",
        "  dates = []\n",
        "  X, Y = [], []\n",
        "\n",
        "  last_time = False\n",
        "  while True:\n",
        "    df_subset = dateframe.loc[:target_date].tail(n+1)\n",
        "\n",
        "    if len(df_subset) != n+1:\n",
        "      return\n",
        "\n",
        "    values = df_subset['Close'].to_numpy()\n",
        "    x, y = values[:-1], values[-1]\n",
        "\n",
        "    dates.append(target_date)\n",
        "    X.append(x)\n",
        "    Y.append(y)\n",
        "\n",
        "    next_week = dateframe.loc[target_date:target_date + datetime.timedelta(days=7)]\n",
        "    next_datetime_str = str(next_week.head(2).tail(1).index.values[0])\n",
        "    next_date_str = next_datetime_str.split('T')[0]\n",
        "    year_month_day = next_date_str.split('-')\n",
        "    year, month, day = year_month_day\n",
        "    next_date = datetime.datetime(day=int(day), month=int(month), year=int(year))\n",
        "\n",
        "    if last_time:\n",
        "      break\n",
        "\n",
        "    target_date = next_date\n",
        "\n",
        "    if target_date == last_date:\n",
        "      last_time = True\n",
        "\n",
        "  ret_df = pd.DataFrame({})\n",
        "  ret_df['Target Date'] = dates\n",
        "\n",
        "  X = np.array(X)\n",
        "  for i in range(0, n):\n",
        "    X[:, i]\n",
        "    ret_df[f'Target-{n-i}'] = X[:, i]\n",
        "\n",
        "  ret_df['Target'] = Y\n",
        "\n",
        "  return ret_df\n",
        "\n",
        "\n",
        "n = 3\n",
        "\n",
        "start = df['Close'].index[n]\n",
        "start_date = start.strftime('%Y-%m-%d')\n",
        "\n",
        "end = df['Close'].index[-1]\n",
        "end_date = end.strftime('%Y-%m-%d')\n",
        "\n",
        "\n",
        "\n",
        "windowed_df = df_to_windowed_df(df, start_date, end_date, n)\n"
      ]
    },
    {
      "cell_type": "code",
      "execution_count": null,
      "metadata": {
        "colab": {
          "base_uri": "https://localhost:8080/"
        },
        "id": "_mlygX9JVBWb",
        "outputId": "af4cc6b4-082c-499f-83a9-77de312eb0b2"
      },
      "outputs": [
        {
          "data": {
            "text/plain": [
              "((4849,), (4849, 30, 1), (4849,))"
            ]
          },
          "execution_count": 124,
          "metadata": {},
          "output_type": "execute_result"
        }
      ],
      "source": [
        "def windowed_df_to_date_X_y(windowed_dataframe):\n",
        "  df_as_np = windowed_dataframe.to_numpy()\n",
        "\n",
        "  dates = df_as_np[:, 0]\n",
        "\n",
        "  middle_matrix = df_as_np[:, 1: -1]\n",
        "  X = middle_matrix.reshape((len(dates), middle_matrix.shape[1], 1))\n",
        "\n",
        "  Y = df_as_np[:, -1]\n",
        "\n",
        "  return dates, X.astype(np.float32), Y.astype(np.float32)\n",
        "\n",
        "dates, X, y = windowed_df_to_date_X_y(windowed_df)\n",
        "\n",
        "dates.shape, X.shape, y.shape"
      ]
    },
    {
      "cell_type": "code",
      "execution_count": null,
      "metadata": {
        "id": "VDuV1jD02Q7y"
      },
      "outputs": [],
      "source": [
        "blue_color = (0.2, 0.4, 0.6);\n",
        "green_color = (0.4, 0.7, 0.2);\n",
        "red_color = (0.8, 0.2, 0.4);"
      ]
    },
    {
      "cell_type": "code",
      "execution_count": null,
      "metadata": {
        "id": "sLCoVC9kVmAK"
      },
      "outputs": [],
      "source": [
        "size_of_set = 365\n",
        "\n",
        "a = int(len(dates) - size_of_set * 2)\n",
        "b = int(len(dates) - size_of_set)\n",
        "\n",
        "dates_train, X_train, y_train = dates[:a], X[:a], y[:a]\n",
        "\n",
        "dates_val, X_val, y_val = dates[a:b], X[a:b], y[a:b]\n",
        "\n",
        "dates_test, X_test, y_test = dates[b:], X[b:], y[b:]\n",
        "\n",
        "plt.figure(figsize=(16,10))\n",
        "plt.plot(dates_train, y_train, color=blue_color)\n",
        "plt.plot(dates_val, y_val, color=green_color)\n",
        "plt.plot(dates_test, y_test, color=red_color)\n",
        "plt.title('Dane podzielone na trzy zbiory')\n",
        "plt.xlabel('Daty')\n",
        "plt.ylabel('Cena zamknięcia [PLN]')\n",
        "\n",
        "plt.legend(['Zbiór uczący', 'Zbiór walidacyjny', 'Zbiór testowy'])"
      ]
    },
    {
      "cell_type": "markdown",
      "metadata": {
        "id": "k8lov6KgDj4Y"
      },
      "source": [
        "## Funkcje pomocnicze do obliczania błędów"
      ]
    },
    {
      "cell_type": "code",
      "execution_count": null,
      "metadata": {
        "id": "5ZgZ4bDtuRAH"
      },
      "outputs": [],
      "source": [
        "def calculate_mse(actual, predicted):\n",
        "    return np.square(np.subtract(np.array(actual), np.array(predicted)))\n",
        "\n",
        "def calculate_mae(actual_values, predicted_values):\n",
        "    return np.abs(np.array(actual_values) - np.array(predicted_values))\n",
        "\n",
        "def mape(Y_actual,Y_Predicted):\n",
        "    return np.mean(np.abs((Y_actual - Y_Predicted) / Y_actual)) * 100"
      ]
    },
    {
      "cell_type": "markdown",
      "metadata": {
        "id": "4e3rbng7kRcW"
      },
      "source": [
        "# Funkcje pomocnicze do wyświetlania wykresów"
      ]
    },
    {
      "cell_type": "code",
      "execution_count": null,
      "metadata": {
        "id": "Iq92Fm7OYlqH"
      },
      "outputs": [],
      "source": [
        "def display_error_figure(data, title):\n",
        "  plt.figure(figsize=(12,8))\n",
        "  plt.plot(data, color=blue_color)\n",
        "  plt.title(title)\n",
        "  plt.ylabel('Wartość błędu')\n",
        "  plt.xlabel('Obserwacje')\n",
        "  plt.show()\n",
        "\n",
        "def display_error_boxplot(data, title):\n",
        "  plt.figure(figsize=(12,8))\n",
        "  plt.boxplot(data)\n",
        "  plt.title(title)\n",
        "  plt.ylabel('Wartość błędu')\n",
        "  plt.xlabel('')\n",
        "  plt.show()\n",
        "\n",
        "def display_prediction_data(dates, predictions, actual, title):\n",
        "  plt.figure(figsize=(12,8))\n",
        "  plt.plot(dates, actual, color=green_color)\n",
        "  plt.plot(dates, predictions, color=blue_color)\n",
        "  plt.legend(['Rzeczywsite', 'Przewidywane'])\n",
        "  plt.xlabel('Daty')\n",
        "  plt.ylabel('Cena zamknięcia [PLN]')\n",
        "  plt.title(title)\n",
        "  plt.show()"
      ]
    },
    {
      "cell_type": "markdown",
      "metadata": {
        "id": "hShFYrWyjE9-"
      },
      "source": [
        "# Sieć neuronowa"
      ]
    },
    {
      "cell_type": "code",
      "execution_count": null,
      "metadata": {
        "colab": {
          "background_save": true
        },
        "id": "DN77iPHaWcAU"
      },
      "outputs": [],
      "source": [
        "import tensorflow as tf\n",
        "\n",
        "model = tf.keras.models.Sequential([tf.keras.layers.Input((n, 1)),\n",
        "                                    tf.keras.layers.LSTM(32),\n",
        "                                    tf.keras.layers.Dense(16, activation='relu'),\n",
        "                                    tf.keras.layers.Dense(16, activation='relu'),\n",
        "                                    tf.keras.layers.Dense(48, activation='relu'),\n",
        "                                    tf.keras.layers.Dense(1)])\n",
        "\n",
        "model.compile(loss='mse', optimizer=tf.keras.optimizers.Adam(learning_rate=0.001), metrics=['mean_absolute_error', 'mean_squared_error'])\n",
        "\n",
        "history = model.fit(X_train, y_train, validation_data=(X_val, y_val), epochs=20, batch_size=32)"
      ]
    },
    {
      "cell_type": "code",
      "execution_count": null,
      "metadata": {
        "id": "Nm70J1NisMED"
      },
      "outputs": [],
      "source": [
        "test_predictions = model.predict(X_test).flatten()\n",
        "train_predictions = model.predict(X_train).flatten()\n",
        "val_predictions = model.predict(X_val).flatten()"
      ]
    },
    {
      "cell_type": "markdown",
      "metadata": {
        "id": "nPYQmHXFhhaf"
      },
      "source": [
        "## Model metrics"
      ]
    },
    {
      "cell_type": "code",
      "execution_count": null,
      "metadata": {
        "id": "Q9x660NWcWlv"
      },
      "outputs": [],
      "source": [
        "pd.DataFrame(history.history).plot(figsize=(12,8))"
      ]
    },
    {
      "cell_type": "code",
      "execution_count": null,
      "metadata": {
        "id": "-w7v4L_RKOkp"
      },
      "outputs": [],
      "source": [
        "plt.figure(figsize=(12,8))\n",
        "# plt.plot(history.history['mean_squared_error'][2:])\n",
        "plt.plot(history.history['val_mean_squared_error'])\n",
        "plt.title('Model MSE')\n",
        "plt.ylabel('Wartości błędu')\n",
        "plt.xlabel('Epoka')\n",
        "plt.legend(['Uczący', 'Walidacyjny'])\n",
        "\n",
        "#plt.boxplot(history.history['val_mean_squared_error'])\n",
        "# plt.boxplot(history.history['mean_squared_error'])"
      ]
    },
    {
      "cell_type": "code",
      "execution_count": null,
      "metadata": {
        "id": "d_6eZ0jfIMna"
      },
      "outputs": [],
      "source": [
        "plt.figure(figsize=(12,8))\n",
        "plt.plot(history.history['mean_absolute_error'])\n",
        "plt.plot(history.history['val_mean_absolute_error'])\n",
        "plt.title('Model MAE')\n",
        "plt.ylabel('Wartości błędu')\n",
        "plt.xlabel('Epoka')\n",
        "plt.legend(['Uczący', 'Walidacyjny'])"
      ]
    },
    {
      "cell_type": "code",
      "execution_count": null,
      "metadata": {
        "id": "zexUgbXmJ1_R"
      },
      "outputs": [],
      "source": [
        "plt.figure(figsize=(12,8))\n",
        "plt.plot(history.history['loss'], label=\"training loss\")\n",
        "plt.plot(history.history['val_loss'], label=\"validation loss\")\n",
        "plt.title('Strata modelu')\n",
        "plt.ylabel('Strata')\n",
        "plt.xlabel('Epoka')"
      ]
    },
    {
      "cell_type": "code",
      "execution_count": null,
      "metadata": {
        "id": "oXBeL8CsrsHM"
      },
      "outputs": [],
      "source": [
        "plt.figure(figsize=(12,8))\n",
        "plt.plot(history.history['loss'][1:], label=\"training loss\")\n",
        "plt.plot(history.history['val_loss'][1:], label=\"validation loss\")\n",
        "plt.title('Strata modelu')\n",
        "plt.ylabel('Strata')\n",
        "plt.xlabel('Epoka')"
      ]
    },
    {
      "cell_type": "markdown",
      "metadata": {
        "id": "O-CG8nbxjpkA"
      },
      "source": [
        "## Błędy"
      ]
    },
    {
      "cell_type": "code",
      "execution_count": null,
      "metadata": {
        "id": "1-K3urrijoiC"
      },
      "outputs": [],
      "source": [
        "test_mse_errors = calculate_mse(y_test, test_predictions)\n",
        "train_mse_errors = calculate_mse(y_train, train_predictions)\n",
        "val_mse_errors = calculate_mse(y_val, val_predictions)"
      ]
    },
    {
      "cell_type": "code",
      "execution_count": null,
      "metadata": {
        "id": "FVa4pm-Tjvh4"
      },
      "outputs": [],
      "source": [
        "train_mae_errors = calculate_mae(y_train, train_predictions)\n",
        "val_mae_errors = calculate_mae(y_val, val_predictions)\n",
        "test_mae_errors = calculate_mae(y_test, test_predictions)"
      ]
    },
    {
      "cell_type": "code",
      "execution_count": null,
      "metadata": {
        "colab": {
          "base_uri": "https://localhost:8080/"
        },
        "id": "dByDNqbRbIm8",
        "outputId": "920348a0-edb9-41b8-9906-835bb6d90d8a"
      },
      "outputs": [
        {
          "data": {
            "text/plain": [
              "(0.5269312, 0.40351763, 4.1429653)"
            ]
          },
          "execution_count": 41,
          "metadata": {},
          "output_type": "execute_result"
        }
      ],
      "source": [
        "from sklearn.metrics import mean_squared_error\n",
        "\n",
        "train_mse = mean_squared_error(y_train, train_predictions)\n",
        "test_mse = mean_squared_error(y_test, test_predictions)\n",
        "val_mse = mean_squared_error(y_val, val_predictions)\n",
        "\n",
        "train_mse, val_mse, test_mse"
      ]
    },
    {
      "cell_type": "code",
      "execution_count": null,
      "metadata": {
        "colab": {
          "base_uri": "https://localhost:8080/"
        },
        "id": "3ZB4BP1OkG6g",
        "outputId": "9b32570e-d46a-489a-c644-c62d034c1439"
      },
      "outputs": [
        {
          "data": {
            "text/plain": [
              "(0.5330532, 0.55410874, 1.4257317)"
            ]
          },
          "execution_count": 42,
          "metadata": {},
          "output_type": "execute_result"
        }
      ],
      "source": [
        "from sklearn.metrics import mean_absolute_error\n",
        "\n",
        "train_mae = mean_absolute_error(y_train, train_predictions)\n",
        "test_mae = mean_absolute_error(y_test, test_predictions)\n",
        "val_mae = mean_absolute_error(y_val, val_predictions)\n",
        "\n",
        "train_mae, val_mae, test_mae"
      ]
    },
    {
      "cell_type": "code",
      "execution_count": null,
      "metadata": {
        "colab": {
          "base_uri": "https://localhost:8080/"
        },
        "id": "W76-_1LwkC5x",
        "outputId": "3629f075-5d5b-40d3-feb7-15204f8cf594"
      },
      "outputs": [
        {
          "data": {
            "text/plain": [
              "(0.015348279, 0.016157018, 0.035638202)"
            ]
          },
          "execution_count": 43,
          "metadata": {},
          "output_type": "execute_result"
        }
      ],
      "source": [
        "from sklearn.metrics import mean_absolute_percentage_error\n",
        "\n",
        "train_mape = mean_absolute_percentage_error(y_train, train_predictions)\n",
        "test_mape = mean_absolute_percentage_error(y_test, test_predictions)\n",
        "val_mape = mean_absolute_percentage_error(y_val, val_predictions)\n",
        "\n",
        "train_mape, val_mape, test_mape"
      ]
    },
    {
      "cell_type": "markdown",
      "metadata": {
        "id": "9llhJ0cKDoph"
      },
      "source": [
        "## Wykresy błędów"
      ]
    },
    {
      "cell_type": "markdown",
      "metadata": {
        "id": "9VnsWavMD4lw"
      },
      "source": [
        "### MSE"
      ]
    },
    {
      "cell_type": "code",
      "execution_count": null,
      "metadata": {
        "id": "ka2iy2bQY9vD"
      },
      "outputs": [],
      "source": [
        "display_error_figure(train_mse_errors, 'Błędy średniokwadratowe zbioru uczącego')\n",
        "print('')\n",
        "display_error_figure(val_mse_errors, 'Błędy średniokwadratowe zbioru walidacyjnego')\n",
        "print('')\n",
        "display_error_figure(test_mse_errors, 'Błędy średniokwadratowe zbioru testowego')"
      ]
    },
    {
      "cell_type": "code",
      "execution_count": null,
      "metadata": {
        "id": "ubljPE2uhVU9"
      },
      "outputs": [],
      "source": [
        "display_error_boxplot(train_mse_errors, 'Błędy średniokwadratowe uczącego')\n",
        "print()\n",
        "display_error_boxplot(val_mse_errors, 'Błędy średniokwadratowe walidacyjnego')\n",
        "print()\n",
        "display_error_boxplot(test_mse_errors, 'Błędy średniokwadratowe zbioru testowego')"
      ]
    },
    {
      "cell_type": "markdown",
      "metadata": {
        "id": "gg7eeVU2D6uU"
      },
      "source": [
        "### MAE"
      ]
    },
    {
      "cell_type": "markdown",
      "metadata": {
        "id": "G6bhM3AchPzP"
      },
      "source": []
    },
    {
      "cell_type": "code",
      "execution_count": null,
      "metadata": {
        "id": "Z6xBesdkZ0Wt"
      },
      "outputs": [],
      "source": [
        "display_error_figure(train_mae_errors, 'Błędy bezwzględne zbioru uczącego')\n",
        "print()\n",
        "display_error_figure(val_mae_errors, 'Błędy bezwzględne zbioru walidacyjnego')\n",
        "print()\n",
        "display_error_figure(test_mae_errors, 'Błędy bezwzględne zbioru testowego')"
      ]
    },
    {
      "cell_type": "code",
      "execution_count": null,
      "metadata": {
        "id": "esNl1XiChZKB"
      },
      "outputs": [],
      "source": [
        "display_error_boxplot(train_mae_errors, 'Błędy bezwzględne zbioru uczącego')\n",
        "print()\n",
        "display_error_boxplot(val_mae_errors, 'Błędy bezwzględne zbioru walidacyjnego')\n",
        "print()\n",
        "display_error_boxplot(test_mae_errors, 'Błędy bezwzględne zbioru testowego')"
      ]
    },
    {
      "cell_type": "markdown",
      "metadata": {
        "id": "72TaDpDzh6cF"
      },
      "source": [
        "## Wykresy przewidywanych wartości"
      ]
    },
    {
      "cell_type": "code",
      "execution_count": null,
      "metadata": {
        "colab": {
          "background_save": true
        },
        "id": "YK3DYwGNe4Ku"
      },
      "outputs": [],
      "source": [
        "display_prediction_data(dates_train, train_predictions, y_train, 'Zbiór uczący')\n",
        "print()\n",
        "display_prediction_data(dates_val, val_predictions, y_val, 'Zbiór walidacyjny')\n",
        "print()\n",
        "display_prediction_data(dates_test, test_predictions, y_test, 'Zbiór testowy')"
      ]
    },
    {
      "cell_type": "code",
      "execution_count": null,
      "metadata": {
        "id": "A6z8vCT6oGhk"
      },
      "outputs": [],
      "source": [
        "plt.figure(figsize=(12,8))\n",
        "# plt.plot(dates_train, y_train)\n",
        "# plt.plot(dates_train, train_predictions)\n",
        "\n",
        "plt.plot(dates_val, y_val)\n",
        "plt.plot(dates_val, val_predictions)\n",
        "\n",
        "plt.plot(dates_test, y_test)\n",
        "plt.plot(dates_test, test_predictions)\n",
        "\n",
        "plt.xlabel('Daty')\n",
        "plt.ylabel('Cena zamknięcia [PLN]')\n",
        "\n",
        "plt.legend(['Validation', 'Validation prediction', 'Test', 'Test prediction'])\n",
        "plt.title('Observations vs Predictions')"
      ]
    },
    {
      "cell_type": "markdown",
      "metadata": {
        "id": "79sHJJyXkeNw"
      },
      "source": [
        "# ARIMA"
      ]
    },
    {
      "cell_type": "code",
      "execution_count": null,
      "metadata": {
        "id": "3plRr3U4kryn"
      },
      "outputs": [],
      "source": [
        "pip install pmdarima"
      ]
    },
    {
      "cell_type": "code",
      "execution_count": null,
      "metadata": {
        "id": "T62CwcJKktZJ"
      },
      "outputs": [],
      "source": [
        "from pmdarima.arima import auto_arima\n",
        "\n",
        "model_arima = auto_arima(y=y_train,\n",
        "                    m=6,\n",
        "                    D=1,\n",
        "                    trace=True,\n",
        "                    seasonal=True,\n",
        "                    error_action='ignore',\n",
        "                    suppress_warnings=True,\n",
        "                    stepwise=True)"
      ]
    },
    {
      "cell_type": "code",
      "execution_count": null,
      "metadata": {
        "id": "JaNlxfkDkxjL"
      },
      "outputs": [],
      "source": [
        "model_arima.summary()"
      ]
    },
    {
      "cell_type": "code",
      "execution_count": null,
      "metadata": {
        "id": "tShZr1uZwG_G"
      },
      "outputs": [],
      "source": [
        "y_train.shape\n",
        "X_train.reshape(-1,1)"
      ]
    },
    {
      "cell_type": "code",
      "execution_count": null,
      "metadata": {
        "id": "dfvxLdKuEzQC"
      },
      "outputs": [],
      "source": [
        "X_train = X_train[:,:,-1]\n",
        "X_val = X_val[:,:,-1]\n",
        "X_test = X_test[:,:,-1]"
      ]
    },
    {
      "cell_type": "code",
      "execution_count": null,
      "metadata": {
        "id": "Z2u4pL-bkyvP"
      },
      "outputs": [],
      "source": [
        "model_arima.fit(y=y_train, X=X_train)"
      ]
    },
    {
      "cell_type": "code",
      "execution_count": null,
      "metadata": {
        "id": "M22nukzkk0YG"
      },
      "outputs": [],
      "source": [
        "train_forecast = model_arima.predict(X=X_train, n_periods=len(X_train)).flatten()\n",
        "validation_forecast = model_arima.predict(X=X_val, n_periods=len(X_val)).flatten()\n",
        "test_forecast = model_arima.predict(X=X_test, n_periods=len(X_test)).flatten()"
      ]
    },
    {
      "cell_type": "markdown",
      "metadata": {
        "id": "rwrn792Jk2wQ"
      },
      "source": [
        "## Błędy"
      ]
    },
    {
      "cell_type": "code",
      "execution_count": null,
      "metadata": {
        "id": "6vZ3QY3ol1z9"
      },
      "outputs": [],
      "source": [
        "arima_train_mae_errors = calculate_mae(y_train, train_forecast)\n",
        "arima_val_mae_errors = calculate_mae(y_val, validation_forecast)\n",
        "arima_test_mae_errors = calculate_mae(y_test, test_forecast)"
      ]
    },
    {
      "cell_type": "code",
      "execution_count": null,
      "metadata": {
        "id": "aHlUfdOWl1-o"
      },
      "outputs": [],
      "source": [
        "arima_train_mse_errors = calculate_mse(y_train, train_predictions)\n",
        "arima_val_mse_errors = calculate_mse(y_val, validation_forecast)\n",
        "arima_test_mse_errors = calculate_mse(y_test, test_forecast)"
      ]
    },
    {
      "cell_type": "code",
      "execution_count": null,
      "metadata": {
        "id": "c36_UA81l_En"
      },
      "outputs": [],
      "source": [
        "from sklearn.metrics import mean_squared_error\n",
        "\n",
        "arima_train_mse = mean_squared_error(y_train, train_forecast)\n",
        "arima_val_mse = mean_squared_error(y_val, validation_forecast)\n",
        "arima_test_mse = mean_squared_error(y_test, test_forecast)\n",
        "\n",
        "\n",
        "arima_train_mse, arima_val_mse, arima_test_mse"
      ]
    },
    {
      "cell_type": "code",
      "execution_count": null,
      "metadata": {
        "id": "lUugTu4jmLaP"
      },
      "outputs": [],
      "source": [
        "from sklearn.metrics import mean_absolute_error\n",
        "\n",
        "arima_train_mae = mean_absolute_error(y_train, train_forecast)\n",
        "arima_val_mae = mean_absolute_error(y_val, validation_forecast)\n",
        "arima_test_mae = mean_absolute_error(y_test, test_forecast)\n",
        "\n",
        "\n",
        "arima_train_mae, arima_val_mae, arima_test_mae"
      ]
    },
    {
      "cell_type": "code",
      "execution_count": null,
      "metadata": {
        "id": "BxquK19Vmqgo"
      },
      "outputs": [],
      "source": [
        "from sklearn.metrics import mean_absolute_percentage_error\n",
        "\n",
        "arima_train_mape = mean_absolute_percentage_error(y_train, train_forecast)\n",
        "arima_val_mape = mean_absolute_percentage_error(y_val, validation_forecast)\n",
        "arima_test_mape = mean_absolute_percentage_error(y_test, test_forecast)\n",
        "\n",
        "arima_train_mape, arima_val_mape, arima_test_mape"
      ]
    },
    {
      "cell_type": "markdown",
      "metadata": {
        "id": "4CeQm9f-ljm5"
      },
      "source": [
        "### MSE"
      ]
    },
    {
      "cell_type": "code",
      "execution_count": null,
      "metadata": {
        "id": "OHJEXDS1m1HD"
      },
      "outputs": [],
      "source": [
        "display_error_figure(arima_train_mse_errors, 'Błędy średniokwadratowe zbioru uczącego')\n",
        "print('')\n",
        "display_error_figure(arima_val_mse_errors, 'Błędy średniokwadratowe zbioru walidacyjnego')\n",
        "print('')\n",
        "display_error_figure(arima_test_mse_errors, 'Błędy średniokwadratowe zbioru testowego')"
      ]
    },
    {
      "cell_type": "code",
      "execution_count": null,
      "metadata": {
        "id": "vj2iJs8gm5WX"
      },
      "outputs": [],
      "source": [
        "display_error_boxplot(arima_train_mse_errors, 'Błędy średniokwadratowe zbioru uczącego')\n",
        "print()\n",
        "display_error_boxplot(arima_val_mse_errors, 'Błędy średniokwadratowe zbioru walidacyjnego')\n",
        "print()\n",
        "display_error_boxplot(arima_test_mse_errors, 'Błędy średniokwadratowe zbioru testowego')"
      ]
    },
    {
      "cell_type": "markdown",
      "metadata": {
        "id": "LjuB_wF-ll14"
      },
      "source": [
        "### MAE"
      ]
    },
    {
      "cell_type": "code",
      "execution_count": null,
      "metadata": {
        "id": "L7PogslXlqLY"
      },
      "outputs": [],
      "source": [
        "display_error_figure(train_mae_errors, 'Błędy bezwzględne zbioru uczącego')\n",
        "print()\n",
        "display_error_figure(val_mae_errors, 'Błędy bezwzględne zbioru walidacyjnego')\n",
        "print()\n",
        "display_error_figure(test_mae_errors, 'Błędy bezwzględne zbioru testowego')"
      ]
    },
    {
      "cell_type": "code",
      "execution_count": null,
      "metadata": {
        "id": "pzkdcK0XlqzW"
      },
      "outputs": [],
      "source": [
        "display_error_boxplot(train_mae_errors, 'Błędy bezwzględne zbioru uczącego')\n",
        "print()\n",
        "display_error_boxplot(val_mae_errors, 'Błędy bezwzględne zbioru walidacyjnego')\n",
        "print()\n",
        "display_error_boxplot(test_mae_errors, 'Błędy bezwzględne zbioru testowego')"
      ]
    },
    {
      "cell_type": "markdown",
      "metadata": {
        "id": "aK337EAlk8HS"
      },
      "source": [
        "## Wykresy przewidywanych wartości"
      ]
    },
    {
      "cell_type": "code",
      "execution_count": null,
      "metadata": {
        "id": "b9AasMUblAvA"
      },
      "outputs": [],
      "source": [
        "display_prediction_data(dates_train, train_forecast, y_train, 'Zbiór uczący')\n",
        "print()\n",
        "display_prediction_data(dates_val, validation_forecast, y_val, 'Zbiór walidacyjny')\n",
        "print()\n",
        "display_prediction_data(dates_test, test_forecast, y_test, 'Zbiór testowy')"
      ]
    },
    {
      "cell_type": "code",
      "execution_count": null,
      "metadata": {
        "id": "gWp7lD3XlG3M"
      },
      "outputs": [],
      "source": [
        "plt.figure(figsize=(12,8))\n",
        "plt.plot(dates_train, y_train)\n",
        "plt.plot(dates_train, train_forecast)\n",
        "\n",
        "plt.plot(dates_val, y_val)\n",
        "plt.plot(dates_val, validation_forecast)\n",
        "\n",
        "plt.plot(dates_test, y_test)\n",
        "plt.plot(dates_test, test_forecast)\n",
        "\n",
        "plt.xlabel('Daty')\n",
        "plt.ylabel('Cena zamknięcia [PLN]')\n",
        "\n",
        "plt.legend(['Train', 'Train prediction',  'Validation', 'Validation prediction', 'Test', 'Test prediction'])\n",
        "plt.title('Observations vs Predictions')"
      ]
    }
  ],
  "metadata": {
    "colab": {
      "collapsed_sections": [
        "79sHJJyXkeNw"
      ],
      "provenance": []
    },
    "kernelspec": {
      "display_name": "Python 3",
      "name": "python3"
    },
    "language_info": {
      "name": "python"
    }
  },
  "nbformat": 4,
  "nbformat_minor": 0
}